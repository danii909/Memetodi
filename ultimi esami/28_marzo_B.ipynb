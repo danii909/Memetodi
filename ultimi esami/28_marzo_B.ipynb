{
 "cells": [
  {
   "cell_type": "markdown",
   "metadata": {},
   "source": [
    "In un processo chiamato mitosi, il tempo che impiega una cellula a dividersi segue una distribuzione\n",
    " normale di media 60 minuti e deviazione standard di 5 minuti.\n",
    " 1. Qual ` e la probabilita che una cellula si divida in meno di 45 minuti?\n",
    " 2. Qual ` e la probabilita che una cellula si divida in piu di 65 minuti?\n",
    " 3. Qual ` e il tempo impiegato approssimativamente dal 99% delle cellule per completare la mitosi?\n",
    " 4. Su un campione di 20 cellule, qual e la probabilita che il tempo medio di divisione sia minore di\n",
    " 58 minuti?"
   ]
  },
  {
   "cell_type": "code",
   "execution_count": 10,
   "metadata": {},
   "outputs": [
    {
     "name": "stdout",
     "output_type": "stream",
     "text": [
      "0.001349898031630093\n",
      "0.15865525393145707\n",
      "71.6317393702042\n",
      "0.03681913506015133\n"
     ]
    }
   ],
   "source": [
    "from scipy.stats import norm\n",
    "import numpy as np\n",
    "\n",
    "mu = 60\n",
    "S = 5\n",
    "\n",
    "p1 = norm.cdf(45, mu, S)\n",
    "print(p1)\n",
    "\n",
    "p2 = norm.sf(65, mu, S)\n",
    "print(p2)\n",
    "\n",
    "q=0.99\n",
    "\n",
    "p3 = norm.ppf(q, mu, S)\n",
    "print(p3)\n",
    "\n",
    "\n",
    "n = 20\n",
    "mu_0 = 58\n",
    "S /= np.sqrt(n)\n",
    "z = (mu_0 - mu) / S\n",
    "\n",
    "p4 = norm.cdf(z)\n",
    "print(p4)"
   ]
  },
  {
   "cell_type": "code",
   "execution_count": null,
   "metadata": {},
   "outputs": [],
   "source": [
    "import numpy as np\n",
    "from scipy.stats import t\n",
    "import matplotlib.pyplot as plt\n",
    "\n",
    "x = np.array([20,25,30,35,40,50,60,65,70,75,80,90])\n",
    "y = np.array([1.81, 1.70, 1.65, 1.55, 1.48, 1.40, 1.30, 1.26, 1.24,\n",
    "              1.21, 1.20, 1.18])"
   ]
  }
 ],
 "metadata": {
  "kernelspec": {
   "display_name": "Python 3",
   "language": "python",
   "name": "python3"
  },
  "language_info": {
   "codemirror_mode": {
    "name": "ipython",
    "version": 3
   },
   "file_extension": ".py",
   "mimetype": "text/x-python",
   "name": "python",
   "nbconvert_exporter": "python",
   "pygments_lexer": "ipython3",
   "version": "3.11.5"
  }
 },
 "nbformat": 4,
 "nbformat_minor": 2
}
