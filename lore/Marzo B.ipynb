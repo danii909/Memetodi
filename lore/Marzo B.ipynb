{
 "cells": [
  {
   "cell_type": "markdown",
   "id": "b11c48b1-60da-4a5f-b449-27916a730935",
   "metadata": {},
   "source": [
    "# ESAME MARZO B 2024"
   ]
  },
  {
   "cell_type": "markdown",
   "id": "5fb29774-003e-48d6-b3a9-603c6229de9c",
   "metadata": {},
   "source": [
    "In un processo chiamato mitosi, il tempo che impiega una cellula a dividersi segue una distribuzione\n",
    " normale di media 60 minuti e deviazione standard di 5 minuti.\n",
    " 1. Qual ` e la probabilita che una cellula si divida in meno di 45 minuti?\n",
    " 2. Qual ` e la probabilita che una cellula si divida in piu di 65 minuti?\n",
    " 3. Qual ` e il tempo impiegato approssimativamente dal 99% delle cellule per completare la mitosi?\n",
    " 4. Su un campione di 20 cellule, qual e la probabilita che il tempo medio di divisione sia minore di\n",
    " 58 minuti?"
   ]
  },
  {
   "cell_type": "code",
   "execution_count": 2,
   "id": "e270f381-a676-43b9-9800-e2a908ba1e84",
   "metadata": {},
   "outputs": [
    {
     "name": "stdout",
     "output_type": "stream",
     "text": [
      "0.001349898031630093\n"
     ]
    }
   ],
   "source": [
    "# 1 \n",
    "from scipy.stats import norm\n",
    "import numpy as np\n",
    "\n",
    "#usare la norm cdf\n",
    "\n",
    "mu=60\n",
    "S=5\n",
    "\n",
    "p=norm.cdf(45,mu,S)\n",
    "\n",
    "print(p)"
   ]
  },
  {
   "cell_type": "code",
   "execution_count": 2,
   "id": "f67855db-c043-4799-a422-0383ad6f19df",
   "metadata": {},
   "outputs": [
    {
     "name": "stdout",
     "output_type": "stream",
     "text": [
      "0.15865525393145707\n"
     ]
    }
   ],
   "source": [
    "# 2 \n",
    "\n",
    "p=norm.sf(65,mu,S)\n",
    "\n",
    "print(p)"
   ]
  },
  {
   "cell_type": "code",
   "execution_count": 4,
   "id": "f6796fd7-62bb-48e5-b949-f579197c65af",
   "metadata": {},
   "outputs": [
    {
     "name": "stdout",
     "output_type": "stream",
     "text": [
      "71.6317393702042\n"
     ]
    }
   ],
   "source": [
    "#3\n",
    "x= 0.99\n",
    "#Quale é il tempo impiegato approssimativamente dal 99% delle cellule per completare la mitosi?\n",
    "p=norm.ppf(x,mu,S)\n",
    "\n",
    "print(p)"
   ]
  },
  {
   "cell_type": "code",
   "execution_count": 7,
   "id": "48b99231-a601-4a6a-b3fb-4d25fd55ec62",
   "metadata": {},
   "outputs": [
    {
     "name": "stdout",
     "output_type": "stream",
     "text": [
      "La probabilità che il tempo medio di divisione sia minore di 58 minuti è: 0.0368\n"
     ]
    }
   ],
   "source": [
    "#4\n",
    "# Parametri del problema\n",
    "mu = 60  # Media della popolazione\n",
    "sigma = 5  # Deviazione standard della popolazione\n",
    "n = 20  # Dimensione del campione\n",
    "mean_sample = 58  # Media campionaria\n",
    "\n",
    "# Deviazione standard della media campionaria\n",
    "sigma_sample = sigma / np.sqrt(n)\n",
    "\n",
    "# Calcolo del valore z\n",
    "z = (mean_sample - mu) / sigma_sample\n",
    "\n",
    "# Calcolo della probabilità\n",
    "prob =norm.cdf(z)\n",
    "print(f\"La probabilità che il tempo medio di divisione sia minore di 58 minuti è: {prob:.4f}\")"
   ]
  },
  {
   "cell_type": "markdown",
   "id": "cf40c452-ec4b-45dc-a10c-40fc9ddab642",
   "metadata": {},
   "source": [
    "# Esercizio 2"
   ]
  },
  {
   "cell_type": "markdown",
   "id": "6f8fcc2d-61e2-4698-b832-f84a8874321e",
   "metadata": {},
   "source": [
    " Il costo unitario (y) di un certo prodotto varia in funzione del numero (x) di pezzi richiesti. I dati\n",
    " sono riportati nella seguente tabella\n",
    " x 20 25 30 35 40 50 60 65 70 75 80 90\n",
    " y 1.81 1.70 1.65 1.55 1.48 1.40 1.30 1.26 1.24 1.21 1.20 1.18\n",
    " 1. Si determinino i coefficienti della retta di regressione e i loro intervalli di confidenza al 95%. Si\n",
    " giustifichi mediante il coefficiente di determinazione se il modello `e adeguato oppure no.\n",
    " 2. Si rappresentino i dati e la retta di regressione in uno stesso grafico.\n",
    " 3. Si determinino i coefficienti per un modello di regressione lineare del tipo y = a0 +a1x+a2x2 e\n",
    " si calcoli nuovamente il coefficiente di determinazione.\n",
    " 4. Si determinino gli intervalli di confidenza al 95% per i nuovi coefficienti."
   ]
  },
  {
   "cell_type": "code",
   "execution_count": 3,
   "id": "1a33904c-9a19-487d-acb3-55078784f499",
   "metadata": {},
   "outputs": [
    {
     "data": {
      "text/plain": [
       "array([20, 25, 30, 35, 40, 50, 60, 65, 70, 75, 80, 90])"
      ]
     },
     "metadata": {},
     "output_type": "display_data"
    },
    {
     "data": {
      "text/plain": [
       "array([1.81, 1.7 , 1.65, 1.55, 1.48, 1.4 , 1.3 , 1.26, 1.24, 1.21, 1.2 ,\n",
       "       1.18])"
      ]
     },
     "metadata": {},
     "output_type": "display_data"
    }
   ],
   "source": [
    "# 1\n",
    "\n",
    "import numpy as np\n",
    "from scipy.stats import norm,t\n",
    "import matplotlib.pyplot as plt\n",
    "\n",
    "x = np.array([20,25,30,35,40,50,60,65,70,75,80,90])\n",
    "y = np.array([1.81, 1.70, 1.65, 1.55, 1.48, 1.40, 1.30, 1.26, 1.24,\n",
    "              1.21, 1.20, 1.18])\n",
    "\n",
    "display(x)\n",
    "display(y)\n"
   ]
  },
  {
   "cell_type": "code",
   "execution_count": 6,
   "id": "9f4b0bc8-30a2-44ce-8225-e272118b8026",
   "metadata": {},
   "outputs": [
    {
     "data": {
      "image/png": "[encoded data removed]",
      "text/plain": [
       "<Figure size 640x480 with 1 Axes>"
      ]
     },
     "metadata": {},
     "output_type": "display_data"
    }
   ],
   "source": [
    "#trovare coefficienti b0 e b1\n",
    "n=x.size\n",
    "\n",
    "x_mean=np.mean(x)\n",
    "y_mean=np.mean(y)\n",
    "\n",
    "dev_xy=np.sum(x*y-x_mean*y_mean)/n\n",
    "\n",
    "dev_x=np.std(x)\n",
    "sig_x2=np.sum((x**2)-(x_mean**2))/n\n",
    "\n",
    "#TROVO b0\n",
    "b0=y_mean - (dev_xy/sig_x2)*x_mean\n",
    "\n",
    "#TROVO B1\n",
    "b1=dev_xy/sig_x2\n",
    "\n",
    "xx=np.linspace(20,90,1000)\n",
    "\n",
    "yy=b0+b1*xx\n",
    "\n",
    "plt.plot(x,y,'*')\n",
    "plt.plot(xx,yy)\n",
    "plt.xlabel('tempo in ore')\n",
    "plt.ylabel('viscosità olio')\n",
    "plt.show()"
   ]
  },
  {
   "cell_type": "code",
   "execution_count": 7,
   "id": "761c802f-005f-4459-988e-660bd929021a",
   "metadata": {},
   "outputs": [
    {
     "data": {
      "text/plain": [
       "1.9003631284916191"
      ]
     },
     "metadata": {},
     "output_type": "display_data"
    },
    {
     "data": {
      "text/plain": [
       "-2.3831939989960707"
      ]
     },
     "metadata": {},
     "output_type": "display_data"
    },
    {
     "data": {
      "text/plain": [
       "6.183920255979309"
      ]
     },
     "metadata": {},
     "output_type": "display_data"
    },
    {
     "data": {
      "text/plain": [
       "-0.00910055865921786"
      ]
     },
     "metadata": {},
     "output_type": "display_data"
    },
    {
     "data": {
      "text/plain": [
       "-0.8983103700550205"
      ]
     },
     "metadata": {},
     "output_type": "display_data"
    },
    {
     "data": {
      "text/plain": [
       "0.8801092527365847"
      ]
     },
     "metadata": {},
     "output_type": "display_data"
    }
   ],
   "source": [
    "#calcolo l'intervallo di confidenza al 95%\n",
    "\n",
    "alpha=0.05\n",
    "y_hat=b0*b1*x\n",
    "r=y-y_hat\n",
    "\n",
    "s2= np.sum(r**2)/(n-2)\n",
    "s=np.sqrt(s2)\n",
    "\n",
    "T=t.ppf(1-alpha/2,n-2)\n",
    "\n",
    "b0_l=b0-s*np.sqrt(1/n+x_mean**2/(n*sig_x2))*T\n",
    "b0_r=b0+s*np.sqrt(1/n+x_mean**2/(n*sig_x2))*T\n",
    "\n",
    "\n",
    "b1_l=b1-(s/np.sqrt(sig_x2)*np.sqrt(n))*T\n",
    "b1_r=b1+(s/np.sqrt(sig_x2)*np.sqrt(n))*T\n",
    "\n",
    "display(b0)\n",
    "display(b0_l,b0_r)\n",
    "\n",
    "display(b1)\n",
    "display(b1_l,b1_r)"
   ]
  },
  {
   "cell_type": "code",
   "execution_count": 8,
   "id": "387a774e-774b-4a20-ac29-e718318c003c",
   "metadata": {},
   "outputs": [
    {
     "data": {
      "text/plain": [
       "0.9385761352241756"
      ]
     },
     "metadata": {},
     "output_type": "display_data"
    }
   ],
   "source": [
    "#coefficiente di determinazione\n",
    "\n",
    "sig_y2=np.sum((y-y_mean)**2)/n\n",
    "R2= (dev_xy)**2/(sig_x2*sig_y2)\n",
    "\n",
    "display(R2)"
   ]
  },
  {
   "cell_type": "code",
   "execution_count": null,
   "id": "ee70cfa2-7f90-461d-9367-2f16844a8dc9",
   "metadata": {},
   "outputs": [],
   "source": [
    "#il modello di regressione è adeguato"
   ]
  },
  {
   "cell_type": "markdown",
   "id": "b66a9a3a-8f0a-4a97-a927-29eb6ec4900b",
   "metadata": {},
   "source": [
    "# ESERCIZIO 3"
   ]
  },
  {
   "cell_type": "markdown",
   "id": "c191c171-7bfd-412f-a054-e2d95610745a",
   "metadata": {},
   "source": [
    " Il tempo di vita in ore di una batteria segue approssimativamente una distribuzione normale con\n",
    " deviazione standard σ = 1.25. Viene estratto un campione casuale di 10 batterie e si testa per\n",
    " ciascuna di esse il tempo di vita ottenendo i seguenti valori\n",
    " 39.5, 41.5, 38.5, 42.5, 37.5, 43.5, 36.5, 44.5, 35.5, 45.5.\n",
    " 1. Si calcoli la media campionaria e l’intervallo di confidenza per la media con livello di fiducia\n",
    " 0.05.\n",
    " 2. Vi ` e evidenza nel supportare l’ipotesi che il tempo di vita ecceda le 40 ore? Si usi α = 0.05.\n",
    " 3. Calcolare il p-value del test precedente.\n",
    " 4. Se il tempo di vita reale fosse di 42 ore quale sarebbe l’errore di secondo tipo del test precedente?"
   ]
  },
  {
   "cell_type": "code",
   "execution_count": 2,
   "id": "ee239b88-4fba-486a-9adb-209badbea745",
   "metadata": {},
   "outputs": [
    {
     "data": {
      "text/plain": [
       "array([39.5, 41.5, 38.5, 42.5, 37.5, 43.5, 36.5, 44.5, 35.5, 45.5])"
      ]
     },
     "metadata": {},
     "output_type": "display_data"
    },
    {
     "data": {
      "text/plain": [
       "10"
      ]
     },
     "metadata": {},
     "output_type": "display_data"
    }
   ],
   "source": [
    "import numpy as np\n",
    "x = np.array([ 39.5, 41.5, 38.5, 42.5, 37.5, 43.5, 36.5, 44.5, 35.5, 45.5])\n",
    "\n",
    "n=np.size(x)\n",
    "\n",
    "display(x)\n",
    "display(n)"
   ]
  },
  {
   "cell_type": "code",
   "execution_count": 6,
   "id": "2e3b03a2-f141-4c2f-93f2-6edeb53f5285",
   "metadata": {},
   "outputs": [
    {
     "data": {
      "text/plain": [
       "39.725256209619296"
      ]
     },
     "metadata": {},
     "output_type": "display_data"
    },
    {
     "data": {
      "text/plain": [
       "41.274743790380704"
      ]
     },
     "metadata": {},
     "output_type": "display_data"
    }
   ],
   "source": [
    "#media campionaria\n",
    "from scipy.stats import norm\n",
    "\n",
    "me= np.mean(x)\n",
    "sigma= 1.25\n",
    "alpha=0.05\n",
    "\n",
    "phi=norm.ppf(1-alpha/2)\n",
    "\n",
    "Il=me-sigma/np.sqrt(n)*phi\n",
    "Ir=me+sigma/np.sqrt(n)*phi\n",
    "\n",
    "display(Il,Ir)\n"
   ]
  },
  {
   "cell_type": "code",
   "execution_count": 9,
   "id": "a194595b-6a6f-4125-a5e5-350b27d2d52b",
   "metadata": {},
   "outputs": [
    {
     "data": {
      "text/plain": [
       "1.264911064067352"
      ]
     },
     "metadata": {},
     "output_type": "display_data"
    }
   ],
   "source": [
    "#2 eccede le 40 ore il tempo di vita? alpha=0.05\n",
    "alpha=0.05\n",
    "\n",
    "#test di ipotesi per la media\n",
    "#IPOTESI NULLA H0 <= 40\n",
    "#IPOTESI ALTERNATIVA H1 > 40\n",
    "\n",
    "mu_0=40\n",
    "mu=me\n",
    "\n",
    "#calcolo Z\n",
    "\n",
    "Z_0=(mu-mu_0)/sigma*np.sqrt(n)\n",
    "display(Z_0)"
   ]
  },
  {
   "cell_type": "code",
   "execution_count": 12,
   "id": "180dfeb3-962f-4d7c-bd9c-080f596dfd63",
   "metadata": {},
   "outputs": [
    {
     "data": {
      "text/plain": [
       "1.959963984540054"
      ]
     },
     "metadata": {},
     "output_type": "display_data"
    }
   ],
   "source": [
    "PHI=norm.ppf(1-alpha/2)\n",
    "display(PHI)"
   ]
  },
  {
   "cell_type": "code",
   "execution_count": null,
   "id": "0ab0d91f-3002-4b03-a161-f72f0b631b1b",
   "metadata": {},
   "outputs": [],
   "source": [
    "#siccome z_0 < PHI non abbiamo elementi sufficienti\n",
    "#per rigettare l'ipotesi nulla"
   ]
  },
  {
   "cell_type": "code",
   "execution_count": 18,
   "id": "b2308377-5790-4dfd-baba-127f17fd5fbb",
   "metadata": {},
   "outputs": [
    {
     "data": {
      "text/plain": [
       "0.2059032107320682"
      ]
     },
     "metadata": {},
     "output_type": "display_data"
    }
   ],
   "source": [
    "# p_value\n",
    "\n",
    "p_value=2*(1-norm.cdf(np.abs(Z_0)))\n",
    "display(p_value)\n",
    "\n"
   ]
  },
  {
   "cell_type": "code",
   "execution_count": 19,
   "id": "05db857f-3e0f-4289-8b96-e1bd0a56631d",
   "metadata": {},
   "outputs": [
    {
     "data": {
      "text/plain": [
       "0.0009686482254082832"
      ]
     },
     "metadata": {},
     "output_type": "display_data"
    }
   ],
   "source": [
    "# se il tempo di vita reale fosse di 42 ore quale sarebbe\n",
    "#l'errore di secondo tipo del test precedente?\n",
    "\n",
    "mu_1=42\n",
    "\n",
    "beta_crit=(PHI*(sigma/np.sqrt(n)))+mu_0\n",
    "Z_star=(beta_crit-mu_1)/(sigma)*np.sqrt(n)\n",
    "error=norm.cdf(Z_star)\n",
    "\n",
    "display(error)"
   ]
  },
  {
   "cell_type": "code",
   "execution_count": null,
   "id": "8d5992a0-92a7-434c-a777-978ca1d74676",
   "metadata": {},
   "outputs": [],
   "source": []
  }
 ],
 "metadata": {
  "kernelspec": {
   "display_name": "Python 3 (ipykernel)",
   "language": "python",
   "name": "python3"
  },
  "language_info": {
   "codemirror_mode": {
    "name": "ipython",
    "version": 3
   },
   "file_extension": ".py",
   "mimetype": "text/x-python",
   "name": "python",
   "nbconvert_exporter": "python",
   "pygments_lexer": "ipython3",
   "version": "3.12.3"
  }
 },
 "nbformat": 4,
 "nbformat_minor": 5
}
