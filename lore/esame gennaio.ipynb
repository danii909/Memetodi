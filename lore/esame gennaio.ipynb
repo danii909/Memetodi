{
 "cells": [
  {
   "cell_type": "markdown",
   "id": "053f304e-7c50-459c-bb9e-c7eebc9ff6d3",
   "metadata": {},
   "source": [
    "# ESERCIZIO 3"
   ]
  },
  {
   "cell_type": "markdown",
   "id": "4200f6bc-37c0-4d32-b0e1-8b5fe086988f",
   "metadata": {},
   "source": [
    " Una variabile aleatoria X ha densit`a\n",
    " f(x) =\n",
    " \n",
    " \n",
    " \n",
    " − 3\n",
    " 4x2 + 3\n",
    " 2x\n",
    " 0\n",
    " x ∈[0,2]\n",
    " altrimenti\n",
    " 1. Decrivere e implementare un algoritmo per generare numeri pseudo-casuali con distribuzione X\n",
    " utilizzando il metodo del rigetto.\n",
    " 2. Generare numericamente 105 di questi numeri e costruire un istogramma. Verificare infine che\n",
    " essi seguano approssimativamente la distribuzione assegnata sovrapponendo all’istogramma il\n",
    " grafico di f(x) in [0,2]."
   ]
  },
  {
   "cell_type": "code",
   "execution_count": 11,
   "id": "4835ca96-9c6c-47fd-a836-93bc7f037644",
   "metadata": {},
   "outputs": [
    {
     "data": {
      "text/plain": [
       "0.7499992484977471"
      ]
     },
     "metadata": {},
     "output_type": "display_data"
    }
   ],
   "source": [
    "import numpy as np\n",
    "import matplotlib.pyplot as plt\n",
    "\n",
    "def fun(x):\n",
    "    if 0<=x<=2:\n",
    "        return -(3/4)*x**2 + (3/2)*x\n",
    "    else:\n",
    "        return 0\n",
    "\n",
    "a=0\n",
    "b=2\n",
    "M=max(fun(x) for x in np.linspace(a,b,1000))\n",
    "\n",
    "def rigetto(a,b,M):\n",
    "    while True:\n",
    "        r1 = np.random.rand()\n",
    "        r2 = np.random.rand()\n",
    "        xi = a + r1*(b-a)\n",
    "        eta = M*r2\n",
    "        if eta <= fun(xi):\n",
    "            break\n",
    "    return xi \n",
    "\n",
    "\n",
    "display(M)\n",
    "\n"
   ]
  },
  {
   "cell_type": "code",
   "execution_count": 15,
   "id": "5d7f09a3-8bef-4bdc-a6c9-91fc81bd616b",
   "metadata": {},
   "outputs": [
    {
     "data": {
      "image/png": "[encoded data removed]",
      "text/plain": [
       "<Figure size 640x480 with 1 Axes>"
      ]
     },
     "metadata": {},
     "output_type": "display_data"
    }
   ],
   "source": [
    "# 2 \n",
    "\n",
    "num_samples=10**5\n",
    "\n",
    "X=np.zeros(num_samples)\n",
    "\n",
    "for i in range(num_samples):\n",
    "    X[i]=rigetto(a,b,M)\n",
    "\n",
    "xx=np.linspace(a,b,1000)\n",
    "yy=[fun(i) for i in xx]\n",
    "\n",
    "\n",
    "fig, ax=plt.subplots(1,1)\n",
    "ax.hist(X,bins=100,density=True)\n",
    "plt.plot(xx,yy)\n",
    "plt.show()\n",
    "\n"
   ]
  },
  {
   "cell_type": "markdown",
   "id": "4629eb70-c134-424a-a003-bca7ca64137b",
   "metadata": {},
   "source": [
    "# ESERCIZIO 1"
   ]
  },
  {
   "cell_type": "markdown",
   "id": "c1c68a52-4d41-46a5-8363-e54ea8a3663b",
   "metadata": {},
   "source": [
    " Il tempo di vita di un dispositivo meccanico sottoposto a vibrazioni durante un test segue una\n",
    " distribuzione esponenziale con media 400 ore.\n",
    " 1. Qual  e la probabilita che il dispositivo fallisca il test in meno di 100 ore?\n",
    " 2. Qual e la probabilita che il dispositivo operi per pi` u di 500 ore prima di rompersi?\n",
    " 3. Sapendo che il dispositivo ha operato per 400 ore senza fallire il test, qual  e la probabilita che\n",
    " fallisca nelle prossime 100 ore?\n",
    " 4. Quante ore di funzionamento sono necessarie per affermare che il dispositivo fallisca il test con\n",
    " probabilit`a superiore al 95%?"
   ]
  },
  {
   "cell_type": "code",
   "execution_count": 5,
   "id": "1ff63fdc-8927-4e86-b6b4-d9a1f6ac614c",
   "metadata": {},
   "outputs": [
    {
     "data": {
      "text/plain": [
       "0.22119921692859515"
      ]
     },
     "metadata": {},
     "output_type": "display_data"
    }
   ],
   "source": [
    "# 1 \n",
    "from scipy.stats import expon\n",
    "lam=400\n",
    "\n",
    "p=expon.cdf(100, scale=lam)\n",
    "\n",
    "display(p)\n"
   ]
  },
  {
   "cell_type": "code",
   "execution_count": 6,
   "id": "6e6afb52-3729-4038-8028-35ae5f56be83",
   "metadata": {},
   "outputs": [
    {
     "data": {
      "text/plain": [
       "0.2865047968601901"
      ]
     },
     "metadata": {},
     "output_type": "display_data"
    }
   ],
   "source": [
    "# 2\n",
    "p=expon.sf(500,scale=lam)\n",
    "\n",
    "display(p)"
   ]
  },
  {
   "cell_type": "code",
   "execution_count": 8,
   "id": "a7793a49-dfbc-4713-9118-daea4bac0268",
   "metadata": {},
   "outputs": [
    {
     "name": "stdout",
     "output_type": "stream",
     "text": [
      "0.7788007830714049\n"
     ]
    }
   ],
   "source": [
    "# 3\n",
    "# x = 400\n",
    "r = 100\n",
    "# P(X > x + r) = P(X > r) per la proprieta della mancanza memoria\n",
    "\n",
    "p3 = expon.sf(r, scale=lam)\n",
    "print(p3)"
   ]
  },
  {
   "cell_type": "code",
   "execution_count": 10,
   "id": "3bbfb7ad-1880-4970-a591-2d3e1df58d6a",
   "metadata": {},
   "outputs": [
    {
     "data": {
      "text/plain": [
       "1198.2929094215963"
      ]
     },
     "metadata": {},
     "output_type": "display_data"
    }
   ],
   "source": [
    "# 4 \n",
    "import numpy as np\n",
    "p0=0.05\n",
    "lam=1/400\n",
    "\n",
    "\n",
    "\n",
    "\n",
    "#calcolare il valore di t tale che P(T<p) > 0.95\n",
    "p=np.log(p0)/-lam\n",
    "\n",
    "display(p)"
   ]
  },
  {
   "cell_type": "markdown",
   "id": "db8ff4b4-2468-457b-b31f-2affa27c5b7a",
   "metadata": {},
   "source": [
    "per poter effettuare questo calcolo siamo arrivati a una soluzione matematica\n",
    "\n",
    "la cdf della esponenziale è = 1-e^-lam(t)\n",
    "\n",
    "dove lambda è l'inverso della media= 1/400\n",
    "\n",
    "dobbiamo trovare che la cdf sia >0.95\n",
    "\n",
    "1-𝑒^−𝜆𝑡<0.05\n",
    "\n",
    "Isoliamo il termine esponenziale:\n",
    "\n",
    "𝑒^−𝜆𝑡<0.05\n",
    "\n",
    "Prendiamo il logaritmo naturale di entrambi i lati:\n",
    "\n",
    "−𝜆𝑡<ln(0.05)\n",
    "\n",
    "\n",
    "𝑡>ln(0.05)/−𝜆\n",
    "\n",
    "Sostituiamo 𝜆\n",
    "\n",
    "𝑡>ln(0.05)/(−1/400)\n",
    "\n"
   ]
  },
  {
   "cell_type": "markdown",
   "id": "4589ab1b-0ca3-48f9-9ee8-245b5109d146",
   "metadata": {},
   "source": [
    "# ESERCIZIO 2"
   ]
  },
  {
   "cell_type": "markdown",
   "id": "b1840e20-c884-4a09-a585-cf714727ea7a",
   "metadata": {},
   "source": [
    " Si ritiene che i grammi di solidi rimossi da un materiale (y) siano correlati al tempo di asciugatura\n",
    " (x) espresso in ore. Da uno studio sperimentale si ottengono le 10 misurazioni riportate nella seguente\n",
    " tabella.\n",
    " x 2.5 3.0 3.5 4.0 4.5 5.0 5.5 6.0 6.5 7.0\n",
    " y 4.3 1.5 1.8 4.9 4.2 4.8 5.8 6.2 7.0 7.9\n",
    " 1. Si determinino i coefficienti della retta di regressione e i loro intervalli di confidenza al 95%. Si\n",
    " calcoli il coefficiente di determinazione.\n",
    " 2. Si rappresentino i dati e la retta di regressione in uno stesso grafico.\n",
    " 3. Si stimi la quantita in grammi di solidi rimossi a 4.25 ore.\n",
    " 4. Si effettui il test di indipendenza con un livello di significativita α = 0.05 commentandone l’esito."
   ]
  },
  {
   "cell_type": "code",
   "execution_count": 15,
   "id": "4847177f-efe5-4c5b-a21d-6e68f4bd0e55",
   "metadata": {},
   "outputs": [
    {
     "data": {
      "image/png": "[encoded data removed]",
      "text/plain": [
       "<Figure size 640x480 with 1 Axes>"
      ]
     },
     "metadata": {},
     "output_type": "display_data"
    }
   ],
   "source": [
    "#1\n",
    "\n",
    "from scipy.stats import t\n",
    "import numpy as np\n",
    "\n",
    "x= np.array([2.5, 3.0, 3.5, 4.0, 4.5, 5.0, 5.5, 6.0, 6.5, 7.0])\n",
    "y= np.array([4.3, 1.5, 1.8, 4.9, 4.2, 4.8, 5.8, 6.2, 7.0, 7.9,])\n",
    "\n",
    "n=np.size(x)\n",
    "\n",
    "y_bar= np.mean(y)\n",
    "x_bar=np.mean(x)\n",
    "\n",
    "sigma_xy=np.sum((x-x_bar)*(y-y_bar))/n\n",
    "\n",
    "sig_x2=np.sum(x**2-x_bar**2)/n\n",
    "\n",
    "\n",
    "b0=y_bar-(sigma_xy/sig_x2)*x_bar\n",
    "b1=sigma_xy/sig_x2\n",
    "\n",
    "\n",
    "\n",
    "xx=np.linspace(2.5,7,100)\n",
    "yy=b0+b1*xx\n",
    "import matplotlib.pyplot as plt\n",
    "\n",
    "plt.plot(x,y,'*')\n",
    "plt.plot(xx,yy)\n",
    "plt.show()\n"
   ]
  },
  {
   "cell_type": "code",
   "execution_count": null,
   "id": "60494203-f544-448b-af32-cd215196dafe",
   "metadata": {},
   "outputs": [],
   "source": [
    "# intervallo di confidenza al 95%"
   ]
  },
  {
   "cell_type": "code",
   "execution_count": 16,
   "id": "fa160df5-dd22-4b86-90cc-4cc17b965990",
   "metadata": {},
   "outputs": [
    {
     "data": {
      "text/plain": [
       "-3.4961586035138112"
      ]
     },
     "metadata": {},
     "output_type": "display_data"
    },
    {
     "data": {
      "text/plain": [
       "2.098582845938051"
      ]
     },
     "metadata": {},
     "output_type": "display_data"
    },
    {
     "data": {
      "text/plain": [
       "0.6023426014762793"
      ]
     },
     "metadata": {},
     "output_type": "display_data"
    },
    {
     "data": {
      "text/plain": [
       "1.7297786106449333"
      ]
     },
     "metadata": {},
     "output_type": "display_data"
    }
   ],
   "source": [
    "#calcolo residui\n",
    "y_hat=b0+b1*x\n",
    "r=y-y_hat\n",
    "\n",
    "s2=np.sum(r**2)/(n-2)\n",
    "\n",
    "#intervalli di confidenza\n",
    "alpha=0.05\n",
    "\n",
    "T=t.ppf(1-alpha/2,n-2)\n",
    "\n",
    "b0_l=b0-np.sqrt(s2)*np.sqrt(1/n+x_bar**2/(n*sig_x2))*T\n",
    "b0_r=b0+np.sqrt(s2)*np.sqrt(1/n+x_bar**2/(n*sig_x2))*T                        \n",
    "\n",
    "b1_l=b1-np.sqrt(s2)/np.sqrt(n*sig_x2)*T\n",
    "b1_r=b1+np.sqrt(s2)/np.sqrt(n*sig_x2)*T\n",
    "\n",
    "\n",
    "display(b0_l,b0_r)\n",
    "display(b1_l,b1_r)"
   ]
  },
  {
   "cell_type": "code",
   "execution_count": null,
   "id": "34553980-aa24-4724-abe1-3b9e0547b2c0",
   "metadata": {},
   "outputs": [],
   "source": [
    "# FARE PUNTO 3 E 4"
   ]
  }
 ],
 "metadata": {
  "kernelspec": {
   "display_name": "Python 3 (ipykernel)",
   "language": "python",
   "name": "python3"
  },
  "language_info": {
   "codemirror_mode": {
    "name": "ipython",
    "version": 3
   },
   "file_extension": ".py",
   "mimetype": "text/x-python",
   "name": "python",
   "nbconvert_exporter": "python",
   "pygments_lexer": "ipython3",
   "version": "3.12.3"
  }
 },
 "nbformat": 4,
 "nbformat_minor": 5
}
