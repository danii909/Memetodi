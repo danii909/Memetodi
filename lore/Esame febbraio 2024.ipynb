{
 "cells": [
  {
   "cell_type": "markdown",
   "id": "1e11e10f-c793-433c-a0e7-5224791d6fc2",
   "metadata": {},
   "source": [
    "# ESERCIZIO 1 FEBBRAIO 2024"
   ]
  },
  {
   "cell_type": "markdown",
   "id": "bb681637-2ac5-4584-94d6-c20e16c30ba7",
   "metadata": {},
   "source": [
    " E noto che il numero di pezzi guasti fabbricati in una giornata di lavoro di una catena di produzione A segue una distribuzione di Poisson di media 2.\n",
    " 1. Quale la probabilit`a che in un giorno siano stati prodotti esattamente 3 pezzi guasti?\n",
    " 2. Quale la probabilita che in un giorno siano stati prodotti tra 2 e 5 pezzi guasti (estremi inclusi)?\n",
    " Si mette in opera una nuova catena di produzione B. ` E noto che il numero di pezzi guasti fabbricati\n",
    " in una giornata di lavoro mediante B segue una distribuzione di Poisson di media 1.5.\n",
    " 3. Si trovi la legge della variabile aleatoria che conta complessivemente il numero di pezzi guasti\n",
    " prodotti (cio`e provenienti indifferentemente da A o da B) e si calcoli la sua media e la sua\n",
    " varianza.\n",
    " 4. Quale la probabilita che in un giorno siano stati prodotti complessivamente un numero di pezzi\n",
    " guasti compreso tra 3 e 6 (estremi inclusi)?"
   ]
  },
  {
   "cell_type": "code",
   "execution_count": 1,
   "id": "751c0c2f-c059-4093-beb9-f146c03fe137",
   "metadata": {},
   "outputs": [
    {
     "name": "stdout",
     "output_type": "stream",
     "text": [
      "0.18044704431548356\n"
     ]
    }
   ],
   "source": [
    "# 1\n",
    "\n",
    "from scipy.stats import poisson\n",
    "\n",
    "lam1=2\n",
    "k=3\n",
    "\n",
    "p = poisson.pmf(k,lam1)\n",
    "print(p)\n",
    "    \n",
    "\n",
    "\n"
   ]
  },
  {
   "cell_type": "code",
   "execution_count": 2,
   "id": "839286a1-596c-424a-8bc0-277bb714464a",
   "metadata": {},
   "outputs": [
    {
     "name": "stdout",
     "output_type": "stream",
     "text": [
      "0.5774305418095474\n"
     ]
    }
   ],
   "source": [
    "#2\n",
    "\n",
    "p2= sum([poisson.pmf(k,lam1) for k in range (2,6)])\n",
    "print(p2)\n",
    "\n"
   ]
  },
  {
   "cell_type": "code",
   "execution_count": 3,
   "id": "b4146dd5-711f-42c4-8096-29831d27d0ca",
   "metadata": {},
   "outputs": [
    {
     "name": "stdout",
     "output_type": "stream",
     "text": [
      "0.12551071508349182\n"
     ]
    }
   ],
   "source": [
    "# B con media 1.5\n",
    "\n",
    "lam2=1.5\n",
    "k=3\n",
    "\n",
    "p = poisson.pmf(k,lam2)\n",
    "print(p)\n"
   ]
  },
  {
   "cell_type": "code",
   "execution_count": 5,
   "id": "913ce049-06c8-4e7b-bd1e-df3f97bc7904",
   "metadata": {},
   "outputs": [
    {
     "name": "stdout",
     "output_type": "stream",
     "text": [
      "Media complessiva:  3.5\n",
      "Varianza complessiva:  3.5\n"
     ]
    }
   ],
   "source": [
    "# 3\n",
    "#da rivedere\n",
    "# 3\n",
    "lambdaB = 1.5\n",
    "lambdaAB = lam1+ lam2\n",
    "print(\"Media complessiva: \", lambdaAB)\n",
    "print(\"Varianza complessiva: \", lambdaAB)"
   ]
  },
  {
   "cell_type": "code",
   "execution_count": 8,
   "id": "4b19feeb-27bc-4d44-9efb-bee49184e95b",
   "metadata": {},
   "outputs": [
    {
     "name": "stdout",
     "output_type": "stream",
     "text": [
      "0.6138647041089124\n"
     ]
    }
   ],
   "source": [
    "#4\n",
    "\n",
    "p3= sum([poisson.pmf(k,lambdaAB) for k in range (3,7)])\n",
    "print(p3)"
   ]
  },
  {
   "cell_type": "markdown",
   "id": "fef94352-3ae0-4cc5-8e2a-f3e637e9cc47",
   "metadata": {},
   "source": [
    "# ESERCIZIO 2"
   ]
  },
  {
   "cell_type": "markdown",
   "id": "2c5ee1f0-d434-4c49-baba-d8ae9b2185e3",
   "metadata": {},
   "source": [
    "Il contenuto di sodio (in milligrammi) di 30 scatole di cereali `e riportato di seguito\n",
    " 131.15, 130.69, 130.91, 129.54, 129.64, 128.77, 130.72,\n",
    " 128.33, 128.24, 129.65, 130.14, 129.29, 128.71, 129.00, 129.39,\n",
    " 130.42, 129.53, 130.12, 129.78, 130.92, 131.15, 130.69, 130.91,\n",
    " 129.54, 129.64, 128.77, 130.72, 128.33, 128.24, 129.65.\n",
    " 1. Si calcoli la media campionaria, la deviazione standard e l’intervallo di confidenza per la media\n",
    " con livello di fiducia 0.01.\n",
    " 2. Rappresentare graficamente i dati mediante un istogramma e mediante un box-plot.\n",
    " 3. Si testi l’ipotesi che il contenuto medio di sodio sia di 130 mg utilizzando α = 0.05. Si calcoli il\n",
    " p-value del test precedente.\n",
    " 4. è possibile affermare che il contenuto di sodio è distribuito normalmente nelle scatole? Giusti\n",
    "f\n",
    " icare la risposta."
   ]
  },
  {
   "cell_type": "code",
   "execution_count": 9,
   "id": "69c7fe8d-b2b1-40ec-a5c9-e1ba46147c70",
   "metadata": {},
   "outputs": [
    {
     "name": "stdout",
     "output_type": "stream",
     "text": [
      "[131.15 130.69 130.91 129.54 129.64 128.77 130.72 128.33 128.24 129.65\n",
      " 130.14 129.29 128.71 129.   129.39 130.42 129.53 130.12 129.78 130.92\n",
      " 131.15 130.69 130.91 129.54 129.64 128.77 130.72 128.33 128.24 129.65]\n"
     ]
    }
   ],
   "source": [
    "import numpy as np\n",
    "\n",
    "X = np.array([ 131.15, 130.69, 130.91, 129.54, 129.64, 128.77, 130.72,\n",
    " 128.33, 128.24, 129.65, 130.14, 129.29, 128.71, 129.00, 129.39,\n",
    " 130.42, 129.53, 130.12, 129.78, 130.92, 131.15, 130.69, 130.91,\n",
    " 129.54, 129.64, 128.77, 130.72, 128.33, 128.24, 129.65])\n",
    "\n",
    "print(X)"
   ]
  },
  {
   "cell_type": "code",
   "execution_count": 10,
   "id": "5a8f2d3e-67c1-4902-8b81-0ed7ef382d81",
   "metadata": {},
   "outputs": [
    {
     "name": "stdout",
     "output_type": "stream",
     "text": [
      "129.75266666666664\n",
      "0.9293599329955344\n"
     ]
    }
   ],
   "source": [
    "#media campionaria\n",
    "mu = np.mean(X)\n",
    "print(mu)\n",
    "\n",
    "#deviazione standard\n",
    "S = np.std(X, ddof=1)\n",
    "print(S)\n"
   ]
  },
  {
   "cell_type": "code",
   "execution_count": 11,
   "id": "c9a7dac1-13f2-47a3-af03-791e1aefa514",
   "metadata": {},
   "outputs": [
    {
     "data": {
      "text/plain": [
       "129.28497100877496"
      ]
     },
     "metadata": {},
     "output_type": "display_data"
    },
    {
     "data": {
      "text/plain": [
       "130.22036232455832"
      ]
     },
     "metadata": {},
     "output_type": "display_data"
    }
   ],
   "source": [
    "#intervallo di confidenza PER LA MEDIA con livello di fid al 99%\n",
    "from scipy.stats import t\n",
    "\n",
    "alpha=0.01\n",
    "n=X.size\n",
    "\n",
    "t=t.ppf(1-alpha/2,n-1)\n",
    "\n",
    "Il=mu-S/np.sqrt(n)*t\n",
    "Ir=mu+S/np.sqrt(n)*t\n",
    "\n",
    "display(Il,Ir)"
   ]
  },
  {
   "cell_type": "code",
   "execution_count": 18,
   "id": "81e92bf3-b706-4073-ba1a-6dfc40b4be46",
   "metadata": {},
   "outputs": [
    {
     "data": {
      "image/png": "[encoded data removed]",
      "text/plain": [
       "<Figure size 640x480 with 1 Axes>"
      ]
     },
     "metadata": {},
     "output_type": "display_data"
    },
    {
     "data": {
      "image/png": "[encoded data removed]",
      "text/plain": [
       "<Figure size 640x480 with 1 Axes>"
      ]
     },
     "metadata": {},
     "output_type": "display_data"
    }
   ],
   "source": [
    "import matplotlib.pyplot as plt\n",
    "from scipy.stats import probplot\n",
    "\n",
    "fig, ax = plt.subplots(1,1)\n",
    "\n",
    "plt.hist(X, bins=10, edgecolor='black')\n",
    "plt.title('Istogramma ES.2')\n",
    "plt.xlabel('Valore')\n",
    "plt.ylabel('frequenza')\n",
    "\n",
    "plt.show()\n",
    "\n",
    "plt.boxplot(X)\n",
    "\n",
    "plt.show()\n"
   ]
  },
  {
   "cell_type": "code",
   "execution_count": 13,
   "id": "b8ac4ee5-fcd9-4506-b714-3b5ddc472bdd",
   "metadata": {},
   "outputs": [
    {
     "name": "stdout",
     "output_type": "stream",
     "text": [
      "-1.4576703931379382\n"
     ]
    },
    {
     "data": {
      "text/plain": [
       "2.045229642132703"
      ]
     },
     "metadata": {},
     "output_type": "display_data"
    }
   ],
   "source": [
    "# 3\n",
    "from scipy.stats import t\n",
    "#ipotesi nulla H_0= 130 mg\n",
    "mu_0=130\n",
    "alpha=0.05\n",
    "\n",
    "#calcolare il p-value\n",
    "\n",
    "T_0=(mu-mu_0)/S*np.sqrt(n)\n",
    "\n",
    "T= t.ppf(1-alpha/2,n-1)\n",
    "\n",
    "print(T_0)\n",
    "display(T)\n"
   ]
  },
  {
   "cell_type": "code",
   "execution_count": 14,
   "id": "6dfe7d8c-4ae0-4f22-b1f3-52b9eae35c8e",
   "metadata": {},
   "outputs": [
    {
     "name": "stdout",
     "output_type": "stream",
     "text": [
      "0.15567636602235813\n",
      "0.077838183011179\n"
     ]
    }
   ],
   "source": [
    "#si rigetta l'ipotesi nulla perchè T_0 < t a favore della ipotesi alternativa \n",
    "from scipy.stats import t\n",
    "import numpy as np\n",
    "#calcolo p-value\n",
    "\n",
    "p_value = 2 *(1-t.cdf(np.abs(T_0),n-1))\n",
    "p_va=t.cdf(T_0,n-1)\n",
    "print(p_value)\n",
    "print(p_va)"
   ]
  },
  {
   "cell_type": "code",
   "execution_count": 15,
   "id": "4656b89a-342d-45ba-876c-8ffe05a41b16",
   "metadata": {},
   "outputs": [
    {
     "data": {
      "image/png": "[encoded data removed]",
      "text/plain": [
       "<Figure size 640x480 with 1 Axes>"
      ]
     },
     "metadata": {},
     "output_type": "display_data"
    }
   ],
   "source": [
    "#4\n",
    "from scipy.stats import norm\n",
    "# il sodio è distribuito in modo normale nelle scatole?\n",
    "\n",
    "fig, ax = plt.subplots(1,1)\n",
    "probplot(X,dist=norm,plot=ax)\n",
    "plt.show()"
   ]
  },
  {
   "cell_type": "code",
   "execution_count": 16,
   "id": "cdbed7b2-aaf5-49d5-9fd8-aea8df00a9a6",
   "metadata": {},
   "outputs": [],
   "source": [
    "# i dati non seguono una distribuzione normale nella linea retta e quindi non è distribuito normalmente\n"
   ]
  },
  {
   "cell_type": "markdown",
   "id": "038f3a10-61b9-47b9-b0a9-f513e1940ba2",
   "metadata": {},
   "source": [
    "# ESERCIZIO 3\n"
   ]
  },
  {
   "cell_type": "markdown",
   "id": "4ccd1775-2670-46a7-93b8-a08c420fdc4e",
   "metadata": {},
   "source": [
    "Si consideri la catena di Markov sui vertici di un triangolo equilatero definita come segue. Ad ogni\n",
    " istante ci si puo spostare da un vertice a quello adiacente in senso orario con probabilita p e in senso\n",
    " antiorario con probabilita 1 − p, con 0 < p < 1.\n",
    " 1. Determinare la matrice di transizione.\n",
    " 2. Fissato p = 1/3 mostrare che la catena `e regolare.\n",
    " 3. Fissato p = 1/3 determinare la distribuzione stazionaria.\n",
    " 4. Indicato con E = {1,2,3} l’ins ieme degli stati, determinare il valore di p per cui la distribuzione\n",
    " uniforme su E sia reversibile."
   ]
  },
  {
   "cell_type": "code",
   "execution_count": 22,
   "id": "6f7582e8-1723-4331-823c-5dd4cdc20f4f",
   "metadata": {},
   "outputs": [
    {
     "data": {
      "text/plain": [
       "array([[0.        , 0.33333333, 0.66666667],\n",
       "       [0.66666667, 0.        , 0.33333333],\n",
       "       [0.33333333, 0.66666667, 0.        ]])"
      ]
     },
     "metadata": {},
     "output_type": "display_data"
    }
   ],
   "source": [
    "import numpy as np\n",
    "\n",
    "p = 1/3\n",
    "P = np.zeros((3,3)) #matrice di transizione\n",
    "for i in range(3): #per ogni vertice\n",
    "      P[i][(i+1)%3] = p #senso orario\n",
    "      P[i][(i-1)%3] = 1-p #senso antiorario\n",
    "display(P)\n",
    "\n",
    "#p=0.33\n",
    "\n",
    "#1-p=0.66"
   ]
  },
  {
   "cell_type": "code",
   "execution_count": 23,
   "id": "90e1a774-6c22-4ecb-8721-fb9c7e8ee746",
   "metadata": {},
   "outputs": [
    {
     "data": {
      "text/plain": [
       "array([[0.44444444, 0.44444444, 0.11111111],\n",
       "       [0.11111111, 0.44444444, 0.44444444],\n",
       "       [0.44444444, 0.11111111, 0.44444444]])"
      ]
     },
     "metadata": {},
     "output_type": "display_data"
    }
   ],
   "source": [
    "P1=np.array([[0,p,1-p],[1-p,0,p],[p,1-p,0]])\n",
    "display(np.dot(P1,P1))"
   ]
  },
  {
   "cell_type": "code",
   "execution_count": 24,
   "id": "3f597bb8-353c-42a7-a20b-c0f594c47ef3",
   "metadata": {},
   "outputs": [],
   "source": [
    "# è regolare perchè abbiamo elementi di P^2 tutti positivi"
   ]
  },
  {
   "cell_type": "code",
   "execution_count": 25,
   "id": "3874ed1d-f4bd-44ae-a4fa-c59f88919b1d",
   "metadata": {},
   "outputs": [
    {
     "data": {
      "text/plain": [
       "array([ 1. +0.j        , -0.5+0.28867513j, -0.5-0.28867513j])"
      ]
     },
     "metadata": {},
     "output_type": "display_data"
    },
    {
     "data": {
      "text/plain": [
       "array([[ 0.57735027+0.j ,  0.28867513-0.5j,  0.28867513+0.5j],\n",
       "       [ 0.57735027+0.j ,  0.28867513+0.5j,  0.28867513-0.5j],\n",
       "       [ 0.57735027+0.j , -0.57735027+0.j , -0.57735027-0.j ]])"
      ]
     },
     "metadata": {},
     "output_type": "display_data"
    }
   ],
   "source": [
    "#calcoliamo la distribuzione stazionaria\n",
    "\n",
    "#METODO ANALITICO\n",
    "\n",
    "lam, V = np.linalg.eig(P1.T) #calcolo autovalori (lam) e autovettore(V) della trasposta di P1\n",
    "display(lam)\n",
    "display(V)\n"
   ]
  },
  {
   "cell_type": "code",
   "execution_count": 26,
   "id": "b18942f2-9f69-450f-ae6f-47192e11705c",
   "metadata": {},
   "outputs": [
    {
     "data": {
      "text/plain": [
       "array([0.33333333, 0.33333333, 0.33333333])"
      ]
     },
     "metadata": {},
     "output_type": "display_data"
    }
   ],
   "source": [
    "v = np.real(V[:,0])/np.sum(np.real(V[:,0])) #calcolo la distribuzione stazionaria\n",
    "display(v)"
   ]
  },
  {
   "cell_type": "code",
   "execution_count": null,
   "id": "d0705b31-0fc5-47b6-b3d0-c36931130365",
   "metadata": {},
   "outputs": [],
   "source": []
  }
 ],
 "metadata": {
  "kernelspec": {
   "display_name": "Python 3 (ipykernel)",
   "language": "python",
   "name": "python3"
  },
  "language_info": {
   "codemirror_mode": {
    "name": "ipython",
    "version": 3
   },
   "file_extension": ".py",
   "mimetype": "text/x-python",
   "name": "python",
   "nbconvert_exporter": "python",
   "pygments_lexer": "ipython3",
   "version": "3.12.3"
  }
 },
 "nbformat": 4,
 "nbformat_minor": 5
}
