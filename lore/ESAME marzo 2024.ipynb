{
 "cells": [
  {
   "cell_type": "markdown",
   "id": "d2fb92aa-ab47-4bcb-bf7e-a2dd17c4a03b",
   "metadata": {},
   "source": [
    "# ESAME TRACCIA A MARZO 2024"
   ]
  },
  {
   "cell_type": "markdown",
   "id": "23f5265d-7de7-401b-836b-9a7de17856db",
   "metadata": {},
   "source": [
    "Un macchinario riempie automaticamente delle confezioni alimentari il cui peso segue una distribuzione\n",
    " normale di media 220 g e deviazione standard 8 g.\n",
    " 1. Qual e la probabilita che la confezione pesi pIu di 230 g?\n",
    " 2. Qual e la probabilita che il peso della confezione sia compreso tra 210 g e 225 g?\n",
    " 3. Le confezioni vengono imballate in scatole da 10 unita. Dopo aver calcolato la distribuzione del\n",
    " peso della scatola, calcolare la probabilit`a che il peso totale superi i 2250 g (si trascuri il peso\n",
    " della scatola)"
   ]
  },
  {
   "cell_type": "code",
   "execution_count": 1,
   "id": "4b206cf7-0821-4345-9182-81fae4ec1359",
   "metadata": {},
   "outputs": [
    {
     "name": "stdout",
     "output_type": "stream",
     "text": [
      "0.10564977366685535\n"
     ]
    }
   ],
   "source": [
    "# 1\n",
    "from scipy.stats import norm\n",
    "#norm.cdf(x,media,deviazione) -> ripartizione \n",
    "#norm.sf(x,media,deviazione)->sopravvivenza\n",
    "#deviazione = np.sqrt(varianza) <-- IMPORTANTE\n",
    "\n",
    "\n",
    "mu = 220\n",
    "S = 8\n",
    "\n",
    "\n",
    "#pesi più = usare sopravvivenza\n",
    "\n",
    "p= norm.sf(230,mu,S)\n",
    "print (p)\n",
    "\n"
   ]
  },
  {
   "cell_type": "code",
   "execution_count": 2,
   "id": "795827db-a864-4bb8-b92a-39bc06dadb26",
   "metadata": {},
   "outputs": [
    {
     "name": "stdout",
     "output_type": "stream",
     "text": [
      "0.6283646972844441\n"
     ]
    }
   ],
   "source": [
    "#2\n",
    "\n",
    "#sia compresa tra 210 e 225\n",
    "\n",
    "p=norm.cdf(225,mu,S)-norm.cdf(210,mu,S)\n",
    "print(p)\n"
   ]
  },
  {
   "cell_type": "code",
   "execution_count": 3,
   "id": "400a2fc4-1774-40c5-8602-d4fdd2d7b5c2",
   "metadata": {},
   "outputs": [
    {
     "name": "stdout",
     "output_type": "stream",
     "text": [
      "0.024053413944259697\n"
     ]
    }
   ],
   "source": [
    "# 3\n",
    "import numpy as np\n",
    "\n",
    "\n",
    "\n",
    "n=10\n",
    "mu=220\n",
    "\n",
    "peso_scatola=mu*n\n",
    "sigma_tot= np.sqrt(n)*S\n",
    "\n",
    "\n",
    "p=norm.sf(2250,peso_scatola,sigma_tot)\n",
    "print(p)\n"
   ]
  },
  {
   "cell_type": "markdown",
   "id": "39cd165d-8ff6-40db-aca2-76563411c279",
   "metadata": {},
   "source": [
    "# ESERCIZIO 2"
   ]
  },
  {
   "cell_type": "markdown",
   "id": "ac8de6fa-4a37-4503-b3e5-4767b8acfb59",
   "metadata": {},
   "source": [
    " Si considerino i seguenti dati, ottenuti sperimentalmente per determinare l’effetto del tempo in ore\n",
    " (x) a una particolare temperatura e il cambiamento della viscosit`a (y) di un olio.\n",
    " x 0.25 0.5 0.75 1 1.25 1.5 1.75 2 2.25 2.5\n",
    " y-1.42-1.39-1.55-1.89-2.43-3.15-4.05-5.15-6.43-7.89\n",
    " 1. Si determinino i coefficienti della retta di regressione e i loro intervalli di confidenza al 95%. Si\n",
    " calcoli il coefficiente di determinazione.\n",
    " 2. Si rappresentino i dati e la retta di regressione in uno stesso grafico.\n",
    " 3. Si determinino i coefficienti per un modello di regressione lineare del tipo y = a0 +a1x+a2x2 e\n",
    " si calcoli nuovamente il coefficiente di determinazione. Si pu`o affermare che il secondo modello\n",
    " si adatta meglio ai dati? Giustificare la risposta.\n",
    " 4. Si rappresentino i dati, la retta di regressione e il modello quadratico in uno stesso grafico."
   ]
  },
  {
   "cell_type": "code",
   "execution_count": 4,
   "id": "869a71eb-2d7e-4568-af72-9edbf4e60ef8",
   "metadata": {},
   "outputs": [
    {
     "data": {
      "text/plain": [
       "array([0.25, 0.5 , 0.75, 1.  , 1.25, 1.5 , 1.75, 2.  , 2.25, 2.5 ])"
      ]
     },
     "metadata": {},
     "output_type": "display_data"
    },
    {
     "data": {
      "text/plain": [
       "array([-1.42, -1.39, -1.55, -1.89, -2.43, -3.15, -4.05, -5.15, -6.43,\n",
       "       -7.89])"
      ]
     },
     "metadata": {},
     "output_type": "display_data"
    }
   ],
   "source": [
    "import numpy as np\n",
    "from scipy.stats import norm,t\n",
    "import matplotlib.pyplot as plt\n",
    "x = np.array([0.25, 0.5,  0.75, 1, 1.25, 1.5, 1.75, 2, 2.25, 2.5])\n",
    "y = np.array([-1.42, -1.39, -1.55, -1.89, -2.43, -3.15, -4.05, -5.15, -6.43, -7.89])\n",
    "\n",
    "display(x)\n",
    "display(y)"
   ]
  },
  {
   "cell_type": "code",
   "execution_count": 5,
   "id": "bd9ee801-9e75-47da-b924-23a5160dc419",
   "metadata": {},
   "outputs": [
    {
     "data": {
      "image/png": "[encoded data removed]",
      "text/plain": [
       "<Figure size 640x480 with 1 Axes>"
      ]
     },
     "metadata": {},
     "output_type": "display_data"
    }
   ],
   "source": [
    "#passaggi retta di regressione\n",
    "\n",
    "#step 1: trovare i coefficienti b0 e b1\n",
    "\n",
    "n=x.size\n",
    "x_mean=np.mean(x)\n",
    "y_mean=np.mean(y)\n",
    "\n",
    "dev_xy=np.sum(x*y - x_mean*y_mean)/n\n",
    "\n",
    "dev_x=np.std(x)\n",
    "sig_x2=np.sum((x**2)-(x_mean**2))/n\n",
    "\n",
    "\n",
    "#TROVO B0\n",
    "b0=y_mean -(dev_xy/sig_x2)*x_mean\n",
    "\n",
    "#TROVO B1\n",
    "b1=dev_xy/sig_x2\n",
    "\n",
    "#TROVATO TUTTO ORA CERCO LA RETTA DEI MINIMI QUADRATI -> Y\n",
    "\n",
    "xx=np.linspace(0,2.50,1000)\n",
    "\n",
    "yy=b0+b1*xx\n",
    "\n",
    "plt.plot(x,y,'*')\n",
    "plt.plot(xx,yy)\n",
    "plt.xlabel('tempo in ore')\n",
    "plt.ylabel('viscosità olio')\n",
    "plt.show()\n",
    "\n"
   ]
  },
  {
   "cell_type": "code",
   "execution_count": 6,
   "id": "beb3388c-0df0-4987-8640-d9dd9f2bff51",
   "metadata": {},
   "outputs": [
    {
     "name": "stdout",
     "output_type": "stream",
     "text": [
      "0.4219999999999975\n"
     ]
    },
    {
     "data": {
      "text/plain": [
       "-3.657891469057891"
      ]
     },
     "metadata": {},
     "output_type": "display_data"
    },
    {
     "data": {
      "text/plain": [
       "4.501891469057886"
      ]
     },
     "metadata": {},
     "output_type": "display_data"
    },
    {
     "data": {
      "text/plain": [
       "-2.87781818181818"
      ]
     },
     "metadata": {},
     "output_type": "display_data"
    },
    {
     "data": {
      "text/plain": [
       "-29.17918007380291"
      ]
     },
     "metadata": {},
     "output_type": "display_data"
    },
    {
     "data": {
      "text/plain": [
       "23.42354371016655"
      ]
     },
     "metadata": {},
     "output_type": "display_data"
    }
   ],
   "source": [
    "#calcolo intervallo di confidenza al 95%\n",
    "\n",
    "alpha= 0.05\n",
    "\n",
    "y_hat=b0*b1*x\n",
    "r=y-y_hat\n",
    "\n",
    "s2=np.sum(r**2)/(n-2)\n",
    "s= np.sqrt(s2)\n",
    "\n",
    "T = t.ppf(1-alpha/2, n-2)\n",
    "\n",
    "b0_l=b0-s*np.sqrt(1/n+x_mean**2/(n*sig_x2))*T\n",
    "b0_r=b0+s*np.sqrt(1/n+x_mean**2/(n*sig_x2))*T\n",
    "\n",
    "b1_l=b1-(s/np.sqrt(sig_x2)*np.sqrt(n))*T\n",
    "b1_r=b1+(s/np.sqrt(sig_x2)*np.sqrt(n))*T\n",
    "\n",
    "print(b0)\n",
    "display(b0_l,b0_r)\n",
    "\n",
    "display(b1)\n",
    "display(b1_l,b1_r)"
   ]
  },
  {
   "cell_type": "code",
   "execution_count": 7,
   "id": "fbd9e253-220d-4c44-9115-83252101423f",
   "metadata": {},
   "outputs": [
    {
     "data": {
      "text/plain": [
       "0.9026209868993401"
      ]
     },
     "metadata": {},
     "output_type": "display_data"
    }
   ],
   "source": [
    "# calcolo coefficiente di determinazione\n",
    "sig_y2=np.sum((y-y_mean)**2)/n\n",
    "R2= (dev_xy)**2/(sig_x2*sig_y2)\n",
    "\n",
    "display(R2)"
   ]
  },
  {
   "cell_type": "code",
   "execution_count": 8,
   "id": "bd76fd0b-b11c-4050-afb6-e1ba55a61820",
   "metadata": {},
   "outputs": [],
   "source": [
    "#il modello di regressione è adeguato\n"
   ]
  },
  {
   "cell_type": "markdown",
   "id": "e84eed89-42ae-40b4-81e4-928738d13a4f",
   "metadata": {},
   "source": [
    "# COMPLETARE ESERCIZIO 2"
   ]
  },
  {
   "cell_type": "markdown",
   "id": "d262bf45-c84a-4b92-9252-9276747f5367",
   "metadata": {},
   "source": [
    "# ESERCIZIO 3"
   ]
  },
  {
   "cell_type": "markdown",
   "id": "10ed084d-826e-4498-9735-2cf14bbc5247",
   "metadata": {},
   "source": [
    "Si effettua uno studio su quale sia la temperatura corporea limite per cui essa si possa considerare\n",
    " normale. Si estrae un campione di 25 soggetti riportando le seguenti misurazioni in °\n",
    " C.\n",
    " 36.6, 36.2, 36.3, 36.4, 36.6, 36.6, 36.7, 36.7, 36.7, 36.7,\n",
    " 36.8, 36.8, 36.8, 36.9, 36.9, 36.9, 36.9, 37.0, 37.0, 37.1,\n",
    " 37.1, 37.1, 37.2, 37.2, 37.2.\n",
    " 1. Si calcolino la media e la deviazione standard campionarie, e l’intervallo di confidenza per la\n",
    " media con livello di fiducia 0.01.\n",
    " 2. Si testi l’ipotesi che la temperatura limite normale media sia di 37 °\n",
    " C. Si utilizzi α = 0.05.\n",
    " 3. Calcolare il p-value del test.\n",
    " 4. Quale sarebbe la dimensione campionaria richiesta per determinare una temperatura limite reale\n",
    " di 36.8 °C richiedendo una potenza del test del 90%?"
   ]
  },
  {
   "cell_type": "code",
   "execution_count": 9,
   "id": "b7678b66-62b6-4efc-9928-3f8136f7d03f",
   "metadata": {},
   "outputs": [
    {
     "name": "stdout",
     "output_type": "stream",
     "text": [
      "36.816\n",
      "0.27337398071750263\n"
     ]
    }
   ],
   "source": [
    "#1\n",
    "import numpy as np\n",
    "\n",
    "X=np.array([ 36.6, 36.2, 36.3, 36.4, 36.6, 36.6, 36.7, 36.7, 36.7, 36.7,\n",
    "             36.8, 36.8, 36.8, 36.9, 36.9, 36.9, 36.9, 37.0, 37.0, 37.1,\n",
    "             37.1, 37.1, 37.2, 37.2, 37.2])\n",
    "\n",
    "\n",
    "#media campionaria e deviazione standard\n",
    "\n",
    "mu=np.mean(X)\n",
    "\n",
    "\n",
    "#deviazione\n",
    "S=np.std(X,ddof=1)\n",
    "\n",
    "\n",
    "print(mu)\n",
    "print(S)\n",
    "\n"
   ]
  },
  {
   "cell_type": "code",
   "execution_count": 10,
   "id": "6ade27c1-70bc-486c-82f2-d8c8a6f38d31",
   "metadata": {},
   "outputs": [
    {
     "data": {
      "text/plain": [
       "36.66307790275085"
      ]
     },
     "metadata": {},
     "output_type": "display_data"
    },
    {
     "data": {
      "text/plain": [
       "36.968922097249155"
      ]
     },
     "metadata": {},
     "output_type": "display_data"
    }
   ],
   "source": [
    "from scipy.stats import t\n",
    "\n",
    "alpha=0.01\n",
    "n=X.size\n",
    "\n",
    "t=t.ppf(1-alpha/2,n-1)\n",
    "\n",
    "\n",
    "Il=mu - S/np.sqrt(n)*t\n",
    "Ir=mu + S/np.sqrt(n)*t\n",
    "\n",
    "\n",
    "display(Il,Ir)"
   ]
  },
  {
   "cell_type": "code",
   "execution_count": 11,
   "id": "5f139cae-d103-4f44-85a8-d37e4350408a",
   "metadata": {},
   "outputs": [
    {
     "data": {
      "text/plain": [
       "-639.9126320170099"
      ]
     },
     "metadata": {},
     "output_type": "display_data"
    },
    {
     "data": {
      "text/plain": [
       "2.0638985616280205"
      ]
     },
     "metadata": {},
     "output_type": "display_data"
    }
   ],
   "source": [
    "#2\n",
    "from scipy.stats import t\n",
    "#test di ipotesi per la media \n",
    "\n",
    "mu_0=37\n",
    "alpha=0.05\n",
    "\n",
    "T_0=mu-mu_0/S*np.sqrt(n)\n",
    "\n",
    "t=t.ppf(1-alpha/2,n-1)\n",
    "\n",
    "\n",
    "display(T_0)\n",
    "\n",
    "display(t)"
   ]
  },
  {
   "cell_type": "code",
   "execution_count": 12,
   "id": "feaa7d18-c971-47a0-a542-3d7928d89aad",
   "metadata": {},
   "outputs": [
    {
     "name": "stdout",
     "output_type": "stream",
     "text": [
      "1.0\n"
     ]
    }
   ],
   "source": [
    "# non si rigetta l'ipotesi nulla a favore di quella alternativa perchè T_0 < t\n",
    "# se fosse stato T_0 > t si rigettava\n",
    "from scipy.stats import t\n",
    "#calcolo p_value\n",
    "p_value=1-t.cdf(T_0,n-1)\n",
    "\n",
    "print(p_value)\n"
   ]
  },
  {
   "cell_type": "code",
   "execution_count": 13,
   "id": "f9e36891-db46-45f8-8005-251b4e002e73",
   "metadata": {},
   "outputs": [
    {
     "data": {
      "text/plain": [
       "19.631368753124374"
      ]
     },
     "metadata": {},
     "output_type": "display_data"
    }
   ],
   "source": [
    "# 4 \n",
    "from scipy.stats import norm\n",
    "mu_0=37\n",
    "mu_a=36.8\n",
    "S=np.std(X,ddof=1)\n",
    "alpha = 0.05\n",
    "beta = 0.1 # 1- beta(potenza)->90% (guarda errore del 2 tipo)\n",
    "\n",
    "#calcolo phi-alpha e phi-beta\n",
    "phi_alpha=norm.ppf(1-alpha/2)\n",
    "phi_beta=norm.ppf(1-beta)\n",
    "\n",
    "#differenza tra le medie\n",
    "delta = mu_0-mu_a\n",
    "\n",
    "#calcolo dimensione campionaria\n",
    "n=(phi_alpha+phi_beta)**2*S**2/delta**2\n",
    "\n",
    "display(n)\n",
    "\n",
    "\n",
    "\n",
    "\n",
    "\n"
   ]
  },
  {
   "cell_type": "code",
   "execution_count": null,
   "id": "0819d5af-2767-4635-bdb0-2671d2cb0ca0",
   "metadata": {},
   "outputs": [],
   "source": []
  }
 ],
 "metadata": {
  "kernelspec": {
   "display_name": "Python 3 (ipykernel)",
   "language": "python",
   "name": "python3"
  },
  "language_info": {
   "codemirror_mode": {
    "name": "ipython",
    "version": 3
   },
   "file_extension": ".py",
   "mimetype": "text/x-python",
   "name": "python",
   "nbconvert_exporter": "python",
   "pygments_lexer": "ipython3",
   "version": "3.12.3"
  }
 },
 "nbformat": 4,
 "nbformat_minor": 5
}
